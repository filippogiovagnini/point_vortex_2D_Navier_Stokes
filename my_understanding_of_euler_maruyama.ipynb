{
 "cells": [
  {
   "cell_type": "markdown",
   "metadata": {},
   "source": [
    "### General definition of Euler-Maruyama method"
   ]
  },
  {
   "cell_type": "markdown",
   "metadata": {},
   "source": [
    "Consider the stochastic differential equation:\n",
    "\n",
    "$$\n",
    "\\mathrm{d} X_t=a\\left(X_t, t\\right) \\mathrm{d} t+b\\left(X_t, t\\right) \\mathrm{d} W_t\n",
    "$$\n",
    "\n",
    "with initial condition $X_0=x_0$, where $W_t$ denotes the Wiener process, and suppose that we wish to solve this SDE on some interval of time $[0,T]$. Then the Euler-Maruyama approximation to the true solution $X$ is the Markov chain $Y$ defined as follows:\n",
    "- Partition the interval $[0, T]$ into $N$ equal subintervals of width $\\Delta t>0$ :\n",
    "\n",
    "$$\n",
    "0=\\tau_0<\\tau_1<\\cdots<\\tau_N=T \\text { and } \\Delta t=T / N\n",
    "$$\n",
    "\n",
    "- Set $Y_0=x_0$\n",
    "- Recursively define $Y_n$ for $0 \\leq n \\leq N-1$ by\n",
    "\n",
    "$$\n",
    "Y_{n+1}=Y_n+a\\left(Y_n, \\tau_n\\right) \\Delta t+b\\left(Y_n, \\tau_n\\right) \\Delta W_n\n",
    "$$\n",
    "\n",
    "where\n",
    "\n",
    "$$\n",
    "\\Delta W_n=W_{\\tau_{n+1}}-W_{\\tau_n}\n",
    "$$\n",
    "\n",
    "\n",
    "The random variables $\\Delta W_n$ are independent and identically distributed normal random variables with expected value zero and variance $\\Delta t$."
   ]
  },
  {
   "cell_type": "markdown",
   "metadata": {},
   "source": [
    "The following Python code implements the Euler-Maruyama method and uses it to solve the Ornstein-Uhlenbeck process defined by\n",
    "\n",
    "$$\n",
    "\\begin{aligned}\n",
    "& d Y_t=\\theta \\cdot\\left(\\mu-Y_t\\right) \\mathrm{d} t+\\sigma \\mathrm{d} W_t \\\\\n",
    "& Y_0=Y_{\\text {init }}\n",
    "\\end{aligned}\n",
    "$$\n",
    "\n",
    "\n",
    "The random numbers for $\\mathrm{d} W_t$ are generated using the NumPy mathematics package."
   ]
  },
  {
   "cell_type": "code",
   "execution_count": 7,
   "metadata": {},
   "outputs": [],
   "source": [
    "# -*- coding: utf-8 -*-\n",
    "import numpy as np\n",
    "import matplotlib.pyplot as plt\n",
    "\n",
    "\n",
    "class Model:\n",
    "    \"\"\"Stochastic model constants.\"\"\"\n",
    "    THETA = 0.7\n",
    "    MU = 1.5\n",
    "    SIGMA = 0.06\n",
    "\n",
    "\n",
    "def mu(y: float, _t: float) -> float:\n",
    "    \"\"\"Implement the Ornstein–Uhlenbeck mu.\"\"\"\n",
    "    return Model.THETA * (Model.MU - y)\n",
    "\n",
    "\n",
    "def sigma(_y: float, _t: float) -> float:\n",
    "    \"\"\"Implement the Ornstein–Uhlenbeck sigma.\"\"\"\n",
    "    return Model.SIGMA\n",
    "\n",
    "\n",
    "def dW(delta_t: float) -> float:\n",
    "    \"\"\"Sample a random number at each call.\"\"\"\n",
    "    return np.random.normal(loc=0.0, scale=np.sqrt(delta_t))\n",
    "\n",
    "\n",
    "def run_simulation():\n",
    "    \"\"\" Return the result of one full simulation.\"\"\"\n",
    "    T_INIT = 3\n",
    "    T_END = 7\n",
    "    N = 1000  # Compute at 1000 grid points\n",
    "    DT = float(T_END - T_INIT) / N\n",
    "    TS = np.arange(T_INIT, T_END + DT, DT)\n",
    "    assert TS.size == N + 1\n",
    "\n",
    "    Y_INIT = 0\n",
    "\n",
    "    ys = np.zeros(TS.size)\n",
    "    ys[0] = Y_INIT\n",
    "    for i in range(1, TS.size):\n",
    "        t = T_INIT + (i - 1) * DT\n",
    "        y = ys[i - 1]\n",
    "        ys[i] = y + mu(y, t) * DT + sigma(y, t) * dW(DT)\n",
    "\n",
    "    return TS, ys"
   ]
  },
  {
   "cell_type": "code",
   "execution_count": null,
   "metadata": {},
   "outputs": [],
   "source": [
    "def plot_simulations(num_sims: int):\n",
    "    \"\"\" Plot several simulations in one image.\"\"\"\n",
    "    for _ in range(num_sims):\n",
    "        # The * operator unpacks the tuple returned by run_simulation\n",
    "        plt.plot(*run_simulation())\n",
    "\n",
    "    plt.xlabel(\"time\")\n",
    "    plt.ylabel(\"y\")\n",
    "    plt.show()\n",
    "\n",
    "\n",
    "if __name__ == \"__main__\":\n",
    "    NUM_SIMS = 10\n",
    "    plot_simulations(NUM_SIMS)"
   ]
  },
  {
   "cell_type": "code",
   "execution_count": 8,
   "metadata": {},
   "outputs": [
    {
     "data": {
      "image/png": "[encoded data removed]",
      "text/plain": [
       "<Figure size 640x480 with 1 Axes>"
      ]
     },
     "metadata": {},
     "output_type": "display_data"
    }
   ],
   "source": [
    "def run_simulation_deterministic():\n",
    "    \"\"\" Return the result of one full simulation.\"\"\"\n",
    "    T_INIT = 3\n",
    "    T_END = 7\n",
    "    N = 1000  # Compute at 1000 grid points\n",
    "    DT = float(T_END - T_INIT) / N\n",
    "    TS = np.arange(T_INIT, T_END + DT, DT)\n",
    "    assert TS.size == N + 1\n",
    "\n",
    "    Y_INIT = 0\n",
    "\n",
    "    ys = np.zeros(TS.size)\n",
    "    ys[0] = Y_INIT\n",
    "    for i in range(1, TS.size):\n",
    "        t = T_INIT + (i - 1) * DT\n",
    "        y = ys[i - 1]\n",
    "        ys[i] = y + mu(y, t) * DT\n",
    "\n",
    "    return TS, ys\n",
    "\n",
    "\n",
    "def plot_simulations(num_sims: int):\n",
    "    \"\"\" Plot several simulations in one image.\"\"\"\n",
    "    for _ in range(num_sims):\n",
    "        # The * operator unpacks the tuple returned by run_simulation\n",
    "        plt.plot(*run_simulation_deterministic())\n",
    "\n",
    "    plt.xlabel(\"time\")\n",
    "    plt.ylabel(\"y\")\n",
    "    plt.show()\n",
    "\n",
    "\n",
    "if __name__ == \"__main__\":\n",
    "    NUM_SIMS = 10\n",
    "    plot_simulations(NUM_SIMS)"
   ]
  }
 ],
 "metadata": {
  "kernelspec": {
   "display_name": "myenv",
   "language": "python",
   "name": "python3"
  },
  "language_info": {
   "codemirror_mode": {
    "name": "ipython",
    "version": 3
   },
   "file_extension": ".py",
   "mimetype": "text/x-python",
   "name": "python",
   "nbconvert_exporter": "python",
   "pygments_lexer": "ipython3",
   "version": "3.9.19"
  }
 },
 "nbformat": 4,
 "nbformat_minor": 2
}
